{
  "nbformat": 4,
  "nbformat_minor": 0,
  "metadata": {
    "colab": {
      "provenance": [],
      "collapsed_sections": [],
      "toc_visible": true,
      "authorship_tag": "ABX9TyMfQ3XJHjyplQmaDkzAa9+h",
      "include_colab_link": true
    },
    "kernelspec": {
      "name": "python3",
      "display_name": "Python 3"
    },
    "language_info": {
      "name": "python"
    }
  },
  "cells": [
    {
      "cell_type": "markdown",
      "metadata": {
        "id": "view-in-github",
        "colab_type": "text"
      },
      "source": [
        "<a href=\"https://colab.research.google.com/github/Sahrul30T/Tugas_KB/blob/main/Tugas_KB_.ipynb\" target=\"_parent\"><img src=\"https://colab.research.google.com/assets/colab-badge.svg\" alt=\"Open In Colab\"/></a>"
      ]
    },
    {
      "cell_type": "markdown",
      "source": [
        "Diabetes\n"
      ],
      "metadata": {
        "id": "Rc5zNaMYV1Q1"
      }
    },
    {
      "cell_type": "code",
      "execution_count": 2,
      "metadata": {
        "id": "nF8AcZoKVuHa"
      },
      "outputs": [],
      "source": [
        "import pandas as pd\n",
        "import matplotlib.pyplot as plt\n",
        "import seaborn as sn\n",
        "from sklearn import svm\n",
        "from sklearn.metrics import classification_report, confusion_matrix\n",
        "from sklearn.model_selection import train_test_split"
      ]
    },
    {
      "cell_type": "code",
      "source": [
        "#impor CSV ke dataset\n",
        "df = pd.read_csv('diabetes.csv')"
      ],
      "metadata": {
        "id": "9XTyn_8uaaLW"
      },
      "execution_count": 3,
      "outputs": []
    },
    {
      "cell_type": "code",
      "source": [
        "#deklarasi training dan testing data\n",
        "X = df[['Pregnancies', 'Glucose',\t'BloodPressure', 'SkinThickness',\t'Insulin',\t'BMI',\t'DiabetesPedigreeFunction',\t'Age']]\n",
        "y = df['Outcome']"
      ],
      "metadata": {
        "id": "2y1t0mRsabQ7"
      },
      "execution_count": 4,
      "outputs": []
    },
    {
      "cell_type": "code",
      "source": [
        "X_train, X_test, y_train, y_test = train_test_split(X, y, test_size = 0.2)"
      ],
      "metadata": {
        "id": "5cKibVn-abOX"
      },
      "execution_count": 5,
      "outputs": []
    },
    {
      "cell_type": "code",
      "source": [
        "#menggunakan SVM library untuk membuat SVM classifier\n",
        "classifier = svm.SVC(kernel = 'linear')\n",
        " "
      ],
      "metadata": {
        "id": "bkzBzC4IabLq"
      },
      "execution_count": 6,
      "outputs": []
    },
    {
      "cell_type": "code",
      "source": [
        "#memasukkan training data kedalam classifier\n",
        "classifier.fit(X_train, y_train)"
      ],
      "metadata": {
        "colab": {
          "base_uri": "https://localhost:8080/"
        },
        "id": "lbFfu0_dabI3",
        "outputId": "61e1566f-ae9f-45a4-faef-293520ef044f"
      },
      "execution_count": 7,
      "outputs": [
        {
          "output_type": "execute_result",
          "data": {
            "text/plain": [
              "SVC(kernel='linear')"
            ]
          },
          "metadata": {},
          "execution_count": 7
        }
      ]
    },
    {
      "cell_type": "code",
      "source": [
        "#memasukkan testing data ke variabel y_predict\n",
        "y_predict = classifier.predict(X_test)\n",
        " "
      ],
      "metadata": {
        "id": "3uW143dWabGa"
      },
      "execution_count": 8,
      "outputs": []
    },
    {
      "cell_type": "code",
      "source": [
        "#menampilkan classification report\n",
        "print(classification_report(y_test, y_predict))\n",
        " "
      ],
      "metadata": {
        "colab": {
          "base_uri": "https://localhost:8080/"
        },
        "id": "pOCMVKB8abD7",
        "outputId": "3cd868cb-f5d8-47ba-ccc5-ba33ffc15992"
      },
      "execution_count": 9,
      "outputs": [
        {
          "output_type": "stream",
          "name": "stdout",
          "text": [
            "              precision    recall  f1-score   support\n",
            "\n",
            "           0       0.75      0.83      0.79       101\n",
            "           1       0.60      0.47      0.53        53\n",
            "\n",
            "    accuracy                           0.71       154\n",
            "   macro avg       0.67      0.65      0.66       154\n",
            "weighted avg       0.70      0.71      0.70       154\n",
            "\n"
          ]
        }
      ]
    },
    {
      "cell_type": "code",
      "source": [
        "#mengimplementasikan testing data dan hasil prediksi dalam confusion matrix\n",
        "cm = confusion_matrix(y_test, y_predict)\n",
        " "
      ],
      "metadata": {
        "id": "oKjXYRn3abBR"
      },
      "execution_count": 10,
      "outputs": []
    },
    {
      "cell_type": "code",
      "source": [
        "#membuat plotting confusion matrix\n",
        "%matplotlib inline\n",
        "plt.figure (figsize=(10,7))\n",
        "sn.heatmap(cm, annot=True)\n",
        "plt.xlabel('Predicted')\n",
        "plt.ylabel('Truth')"
      ],
      "metadata": {
        "colab": {
          "base_uri": "https://localhost:8080/",
          "height": 460
        },
        "id": "OTauqGGOaa6K",
        "outputId": "c81f21a7-f405-4cd1-92c2-747d63e2ee1b"
      },
      "execution_count": 11,
      "outputs": [
        {
          "output_type": "execute_result",
          "data": {
            "text/plain": [
              "Text(69.0, 0.5, 'Truth')"
            ]
          },
          "metadata": {},
          "execution_count": 11
        },
        {
          "output_type": "display_data",
          "data": {
            "text/plain": [
              "<Figure size 720x504 with 2 Axes>"
            ],
            "image/png": "[encoded data removed]"
          },
          "metadata": {
            "needs_background": "light"
          }
        }
      ]
    }
  ]
}